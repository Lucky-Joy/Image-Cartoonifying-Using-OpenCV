{
 "cells": [
  {
   "cell_type": "markdown",
   "id": "9c4dcb3b",
   "metadata": {},
   "source": [
    "### Installing and Importing Required Modules"
   ]
  },
  {
   "cell_type": "code",
   "execution_count": null,
   "id": "0a9e729c",
   "metadata": {
    "vscode": {
     "languageId": "plaintext"
    }
   },
   "outputs": [],
   "source": [
    "# ✅ One-time setup\n",
    "!pip install opencv-python pillow\n",
    "\n",
    "import cv2\n",
    "import numpy as np\n",
    "import io\n",
    "import base64\n",
    "from PIL import Image\n",
    "from IPython.display import Javascript, display\n",
    "from google.colab.output import eval_js\n",
    "from google.colab.patches import cv2_imshow"
   ]
  },
  {
   "cell_type": "markdown",
   "id": "a3f78f12",
   "metadata": {},
   "source": [
    "### ✅ JavaScript to capture image from webcam"
   ]
  },
  {
   "cell_type": "code",
   "execution_count": null,
   "id": "767a968a",
   "metadata": {
    "vscode": {
     "languageId": "plaintext"
    }
   },
   "outputs": [],
   "source": [
    "def capture_image_from_camera():\n",
    "    js = Javascript('''\n",
    "    async function takePhoto() {\n",
    "      const div = document.createElement('div');\n",
    "      const capture = document.createElement('button');\n",
    "      capture.textContent = '📷 Capture';\n",
    "      div.appendChild(capture);\n",
    "\n",
    "      const video = document.createElement('video');\n",
    "      video.style.display = 'block';\n",
    "      const stream = await navigator.mediaDevices.getUserMedia({video: true});\n",
    "\n",
    "      document.body.appendChild(div);\n",
    "      div.appendChild(video);\n",
    "      video.srcObject = stream;\n",
    "      await video.play();\n",
    "\n",
    "      google.colab.output.setIframeHeight(document.documentElement.scrollHeight, true);\n",
    "\n",
    "      await new Promise((resolve) => capture.onclick = resolve);\n",
    "\n",
    "      const canvas = document.createElement('canvas');\n",
    "      canvas.width = video.videoWidth;\n",
    "      canvas.height = video.videoHeight;\n",
    "      canvas.getContext('2d').drawImage(video, 0, 0);\n",
    "      stream.getTracks().forEach(t => t.stop());\n",
    "      div.remove();\n",
    "      return canvas.toDataURL('image/jpeg');\n",
    "    }\n",
    "    takePhoto();\n",
    "    ''')\n",
    "    display(js)\n",
    "    data = eval_js('takePhoto()')\n",
    "    binary = io.BytesIO(base64.b64decode(data.split(',')[1]))\n",
    "    img = Image.open(binary)\n",
    "    return cv2.cvtColor(np.array(img), cv2.COLOR_RGB2BGR)"
   ]
  },
  {
   "cell_type": "markdown",
   "id": "3b3aaa12",
   "metadata": {},
   "source": [
    "### Cartoonify Function"
   ]
  },
  {
   "cell_type": "code",
   "execution_count": null,
   "id": "3a0da39d",
   "metadata": {
    "vscode": {
     "languageId": "plaintext"
    }
   },
   "outputs": [],
   "source": [
    "def cartoonify_image(img):\n",
    "    \"\"\"Cartoonifier: clean edges + smooth color + high quality.\"\"\"\n",
    "    # Image Resize\n",
    "    img = cv2.resize(img, (960, 720))\n",
    "\n",
    "    # Grayscale\n",
    "    gray = cv2.cvtColor(img, cv2.COLOR_BGR2GRAY)\n",
    "    gray_blur = cv2.medianBlur(gray, 5)\n",
    "\n",
    "    # Adaptive Threshold for edge mask\n",
    "    edges = cv2.adaptiveThreshold(gray_blur, 255,\n",
    "                                  cv2.ADAPTIVE_THRESH_MEAN_C,\n",
    "                                  cv2.THRESH_BINARY,\n",
    "                                  blockSize=7,\n",
    "                                  C=5)\n",
    "\n",
    "    # Smooth the color image\n",
    "    color = cv2.bilateralFilter(img, d=9, sigmaColor=180, sigmaSpace=300)\n",
    "\n",
    "    # Combine edges with color image\n",
    "    cartoon = cv2.bitwise_and(color, color, mask=edges)\n",
    "\n",
    "    # Optional: soft comic blur\n",
    "    cartoon = cv2.GaussianBlur(cartoon, (3, 3), 0)\n",
    "\n",
    "    return cartoon"
   ]
  },
  {
   "cell_type": "markdown",
   "id": "b40bc433",
   "metadata": {},
   "source": [
    "### ✅ Run everything"
   ]
  },
  {
   "cell_type": "code",
   "execution_count": null,
   "id": "81253f43",
   "metadata": {
    "vscode": {
     "languageId": "plaintext"
    }
   },
   "outputs": [],
   "source": [
    "img = capture_image_from_camera()\n",
    "cartoon = cartoonify_image(img)"
   ]
  },
  {
   "cell_type": "markdown",
   "id": "a0b3fb3e",
   "metadata": {},
   "source": [
    "### ✅ Show output"
   ]
  },
  {
   "cell_type": "code",
   "execution_count": null,
   "id": "b7fcee2c",
   "metadata": {
    "vscode": {
     "languageId": "plaintext"
    }
   },
   "outputs": [],
   "source": [
    "cv2_imshow(cartoon)"
   ]
  },
  {
   "cell_type": "markdown",
   "id": "d6a3f7b5",
   "metadata": {},
   "source": [
    "\n",
    "### ✅ Save high-quality output"
   ]
  },
  {
   "cell_type": "code",
   "execution_count": null,
   "id": "69529bcb",
   "metadata": {
    "vscode": {
     "languageId": "plaintext"
    }
   },
   "outputs": [],
   "source": [
    "cv2.imwrite(\"cartoonified_camera_output.jpg\", cartoon, [cv2.IMWRITE_JPEG_QUALITY, 100])\n",
    "print(\"✅ Saved as cartoonified_camera_output.jpg\")"
   ]
  }
 ],
 "metadata": {
  "language_info": {
   "name": "python"
  }
 },
 "nbformat": 4,
 "nbformat_minor": 5
}
